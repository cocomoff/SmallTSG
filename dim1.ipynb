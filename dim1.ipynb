{
 "cells": [
  {
   "cell_type": "code",
   "execution_count": 1,
   "id": "d150ef68-831d-4428-b144-3ff217419a23",
   "metadata": {},
   "outputs": [],
   "source": [
    "module TSG1dim\n",
    "\n",
    "using Combinatorics\n",
    "using Plots\n",
    "gr()\n",
    "\n",
    "export TSG, DEPOT, visualize, naive, fast\n",
    "\n",
    "const DEPOT = 0.0\n",
    "\n",
    "struct TSG\n",
    "    points::Array{Float64, 1}\n",
    "end\n",
    "\n",
    "function visualize(game)\n",
    "    f = plot(ylim=(-1, 1), size=(300, 100))\n",
    "    scatter!(f, [DEPOT, DEPOT], [0, 0], label=nothing, color=:red)\n",
    "    scatter!(f, game.points, [0 for _ in 1:length(game.points)], marker=:square, color=:blue, label=nothing)\n",
    "    f\n",
    "end\n",
    "\n",
    "\"\"\"\n",
    "    naive computation of the Shapley values of the given TSG\n",
    "\"\"\"\n",
    "function naive(game)\n",
    "    n = length(game.points)\n",
    "    values = zeros(n)\n",
    "    \n",
    "    # cost pre-processing for all subsets on {1,...,n}\n",
    "    dictcost = Dict()\n",
    "    dictcost[[]] = 0.0\n",
    "    for N in powerset(collect(1:n), 1)\n",
    "        cn = maximum([game.points[j] for j in N])\n",
    "        dictcost[N] = 2 * cn\n",
    "    end\n",
    "    \n",
    "    \n",
    "    # computation\n",
    "    for i in 1:length(game.points)\n",
    "        Ns = [j for j in 1:n if j != i]\n",
    "        valuei = 0.0\n",
    "        for S in powerset(Ns)\n",
    "            Si = sort([S; i])\n",
    "            c1 = dictcost[Si]\n",
    "            c2 = dictcost[S]\n",
    "            valuei += factorial(length(S)) * factorial(n - length(S) - 1) / factorial(n) * (c1 - c2)\n",
    "        end\n",
    "        values[i] = valuei\n",
    "    end\n",
    "\n",
    "    values\n",
    "end\n",
    "\n",
    "\"\"\"\n",
    "    compute the Shapley values of TSG using (Littlechild and Owen 1973, Alibizuri et al. 2015)\n",
    "\"\"\"\n",
    "function fast(game)\n",
    "    n = length(game.points)\n",
    "    values = zeros(n)\n",
    "    \n",
    "    # relative distance\n",
    "    r = zeros(n)\n",
    "    r[1] = game.points[1]\n",
    "    for j in 2:n\n",
    "        r[j] = game.points[j] - game.points[j - 1]\n",
    "    end\n",
    "\n",
    "    for k in 1:n\n",
    "        for j in 1:k\n",
    "            values[k] += (2 * r[j]) / (n - j + 1)\n",
    "        end\n",
    "    end\n",
    "    values\n",
    "end\n",
    "\n",
    "\n",
    "\n",
    "end\n",
    "\n",
    "using Main.TSG1dim"
   ]
  },
  {
   "cell_type": "code",
   "execution_count": 2,
   "id": "763ab144-1d63-4370-ac7a-7c1536c1a60f",
   "metadata": {},
   "outputs": [
    {
     "name": "stdout",
     "output_type": "stream",
     "text": [
      "TSG([1.5, 2.5, 3.5])\n"
     ]
    },
    {
     "data": {
      "image/svg+xml": [
       "<?xml version=\"1.0\" encoding=\"utf-8\"?>\n",
       "<svg xmlns=\"http://www.w3.org/2000/svg\" xmlns:xlink=\"http://www.w3.org/1999/xlink\" width=\"300\" height=\"100\" viewBox=\"0 0 1200 400\">\n",
       "<defs>\n",
       "  <clipPath id=\"clip760\">\n",
       "    <rect x=\"0\" y=\"0\" width=\"1200\" height=\"400\"/>\n",
       "  </clipPath>\n",
       "</defs>\n",
       "<path clip-path=\"url(#clip760)\" d=\"\n",
       "M0 400 L1200 400 L1200 0 L0 0  Z\n",
       "  \" fill=\"#ffffff\" fill-rule=\"evenodd\" fill-opacity=\"1\"/>\n",
       "<defs>\n",
       "  <clipPath id=\"clip761\">\n",
       "    <rect x=\"240\" y=\"0\" width=\"841\" height=\"400\"/>\n",
       "  </clipPath>\n",
       "</defs>\n",
       "<path clip-path=\"url(#clip760)\" d=\"\n",
       "M181.936 315.728 L1152.76 315.728 L1152.76 47.2441 L181.936 47.2441  Z\n",
       "  \" fill=\"#ffffff\" fill-rule=\"evenodd\" fill-opacity=\"1\"/>\n",
       "<defs>\n",
       "  <clipPath id=\"clip762\">\n",
       "    <rect x=\"181\" y=\"47\" width=\"972\" height=\"269\"/>\n",
       "  </clipPath>\n",
       "</defs>\n",
       "<polyline clip-path=\"url(#clip762)\" style=\"stroke:#000000; stroke-linecap:butt; stroke-linejoin:round; stroke-width:2; stroke-opacity:0.1; fill:none\" points=\"\n",
       "  209.412,315.728 209.412,47.2441 \n",
       "  \"/>\n",
       "<polyline clip-path=\"url(#clip762)\" style=\"stroke:#000000; stroke-linecap:butt; stroke-linejoin:round; stroke-width:2; stroke-opacity:0.1; fill:none\" points=\"\n",
       "  471.089,315.728 471.089,47.2441 \n",
       "  \"/>\n",
       "<polyline clip-path=\"url(#clip762)\" style=\"stroke:#000000; stroke-linecap:butt; stroke-linejoin:round; stroke-width:2; stroke-opacity:0.1; fill:none\" points=\"\n",
       "  732.765,315.728 732.765,47.2441 \n",
       "  \"/>\n",
       "<polyline clip-path=\"url(#clip762)\" style=\"stroke:#000000; stroke-linecap:butt; stroke-linejoin:round; stroke-width:2; stroke-opacity:0.1; fill:none\" points=\"\n",
       "  994.442,315.728 994.442,47.2441 \n",
       "  \"/>\n",
       "<polyline clip-path=\"url(#clip760)\" style=\"stroke:#000000; stroke-linecap:butt; stroke-linejoin:round; stroke-width:4; stroke-opacity:1; fill:none\" points=\"\n",
       "  181.936,315.728 1152.76,315.728 \n",
       "  \"/>\n",
       "<polyline clip-path=\"url(#clip760)\" style=\"stroke:#000000; stroke-linecap:butt; stroke-linejoin:round; stroke-width:4; stroke-opacity:1; fill:none\" points=\"\n",
       "  209.412,315.728 209.412,296.83 \n",
       "  \"/>\n",
       "<polyline clip-path=\"url(#clip760)\" style=\"stroke:#000000; stroke-linecap:butt; stroke-linejoin:round; stroke-width:4; stroke-opacity:1; fill:none\" points=\"\n",
       "  471.089,315.728 471.089,296.83 \n",
       "  \"/>\n",
       "<polyline clip-path=\"url(#clip760)\" style=\"stroke:#000000; stroke-linecap:butt; stroke-linejoin:round; stroke-width:4; stroke-opacity:1; fill:none\" points=\"\n",
       "  732.765,315.728 732.765,296.83 \n",
       "  \"/>\n",
       "<polyline clip-path=\"url(#clip760)\" style=\"stroke:#000000; stroke-linecap:butt; stroke-linejoin:round; stroke-width:4; stroke-opacity:1; fill:none\" points=\"\n",
       "  994.442,315.728 994.442,296.83 \n",
       "  \"/>\n",
       "<path clip-path=\"url(#clip760)\" d=\"M209.412 337.047 Q205.801 337.047 203.972 340.611 Q202.167 344.153 202.167 351.283 Q202.167 358.389 203.972 361.954 Q205.801 365.495 209.412 365.495 Q213.046 365.495 214.852 361.954 Q216.681 358.389 216.681 351.283 Q216.681 344.153 214.852 340.611 Q213.046 337.047 209.412 337.047 M209.412 333.343 Q215.222 333.343 218.278 337.949 Q221.356 342.533 221.356 351.283 Q221.356 360.009 218.278 364.616 Q215.222 369.199 209.412 369.199 Q203.602 369.199 200.523 364.616 Q197.468 360.009 197.468 351.283 Q197.468 342.533 200.523 337.949 Q203.602 333.343 209.412 333.343 Z\" fill=\"#000000\" fill-rule=\"evenodd\" fill-opacity=\"1\" /><path clip-path=\"url(#clip760)\" d=\"M461.471 364.593 L469.109 364.593 L469.109 338.227 L460.799 339.894 L460.799 335.635 L469.063 333.968 L473.739 333.968 L473.739 364.593 L481.378 364.593 L481.378 368.528 L461.471 368.528 L461.471 364.593 Z\" fill=\"#000000\" fill-rule=\"evenodd\" fill-opacity=\"1\" /><path clip-path=\"url(#clip760)\" d=\"M727.418 364.593 L743.737 364.593 L743.737 368.528 L721.793 368.528 L721.793 364.593 Q724.455 361.838 729.038 357.208 Q733.645 352.556 734.825 351.213 Q737.071 348.69 737.95 346.954 Q738.853 345.195 738.853 343.505 Q738.853 340.75 736.909 339.014 Q734.987 337.278 731.885 337.278 Q729.686 337.278 727.233 338.042 Q724.802 338.806 722.024 340.357 L722.024 335.635 Q724.848 334.5 727.302 333.922 Q729.756 333.343 731.793 333.343 Q737.163 333.343 740.358 336.028 Q743.552 338.713 743.552 343.204 Q743.552 345.334 742.742 347.255 Q741.955 349.153 739.848 351.746 Q739.27 352.417 736.168 355.634 Q733.066 358.829 727.418 364.593 Z\" fill=\"#000000\" fill-rule=\"evenodd\" fill-opacity=\"1\" /><path clip-path=\"url(#clip760)\" d=\"M998.689 349.894 Q1002.05 350.611 1003.92 352.88 Q1005.82 355.148 1005.82 358.482 Q1005.82 363.597 1002.3 366.398 Q998.782 369.199 992.3 369.199 Q990.125 369.199 987.81 368.759 Q985.518 368.343 983.064 367.486 L983.064 362.972 Q985.009 364.107 987.324 364.685 Q989.638 365.264 992.162 365.264 Q996.56 365.264 998.851 363.528 Q1001.17 361.792 1001.17 358.482 Q1001.17 355.426 999.013 353.713 Q996.884 351.977 993.064 351.977 L989.037 351.977 L989.037 348.134 L993.249 348.134 Q996.699 348.134 998.527 346.769 Q1000.36 345.38 1000.36 342.787 Q1000.36 340.125 998.458 338.713 Q996.583 337.278 993.064 337.278 Q991.143 337.278 988.944 337.695 Q986.745 338.111 984.106 338.991 L984.106 334.824 Q986.768 334.084 989.083 333.713 Q991.421 333.343 993.481 333.343 Q998.805 333.343 1001.91 335.773 Q1005.01 338.181 1005.01 342.301 Q1005.01 345.172 1003.37 347.162 Q1001.72 349.13 998.689 349.894 Z\" fill=\"#000000\" fill-rule=\"evenodd\" fill-opacity=\"1\" /><polyline clip-path=\"url(#clip762)\" style=\"stroke:#000000; stroke-linecap:butt; stroke-linejoin:round; stroke-width:2; stroke-opacity:0.1; fill:none\" points=\"\n",
       "  181.936,315.728 1152.76,315.728 \n",
       "  \"/>\n",
       "<polyline clip-path=\"url(#clip762)\" style=\"stroke:#000000; stroke-linecap:butt; stroke-linejoin:round; stroke-width:2; stroke-opacity:0.1; fill:none\" points=\"\n",
       "  181.936,248.607 1152.76,248.607 \n",
       "  \"/>\n",
       "<polyline clip-path=\"url(#clip762)\" style=\"stroke:#000000; stroke-linecap:butt; stroke-linejoin:round; stroke-width:2; stroke-opacity:0.1; fill:none\" points=\"\n",
       "  181.936,181.486 1152.76,181.486 \n",
       "  \"/>\n",
       "<polyline clip-path=\"url(#clip762)\" style=\"stroke:#000000; stroke-linecap:butt; stroke-linejoin:round; stroke-width:2; stroke-opacity:0.1; fill:none\" points=\"\n",
       "  181.936,114.365 1152.76,114.365 \n",
       "  \"/>\n",
       "<polyline clip-path=\"url(#clip762)\" style=\"stroke:#000000; stroke-linecap:butt; stroke-linejoin:round; stroke-width:2; stroke-opacity:0.1; fill:none\" points=\"\n",
       "  181.936,47.2441 1152.76,47.2441 \n",
       "  \"/>\n",
       "<polyline clip-path=\"url(#clip760)\" style=\"stroke:#000000; stroke-linecap:butt; stroke-linejoin:round; stroke-width:4; stroke-opacity:1; fill:none\" points=\"\n",
       "  181.936,315.728 181.936,47.2441 \n",
       "  \"/>\n",
       "<polyline clip-path=\"url(#clip760)\" style=\"stroke:#000000; stroke-linecap:butt; stroke-linejoin:round; stroke-width:4; stroke-opacity:1; fill:none\" points=\"\n",
       "  181.936,315.728 200.834,315.728 \n",
       "  \"/>\n",
       "<polyline clip-path=\"url(#clip760)\" style=\"stroke:#000000; stroke-linecap:butt; stroke-linejoin:round; stroke-width:4; stroke-opacity:1; fill:none\" points=\"\n",
       "  181.936,248.607 200.834,248.607 \n",
       "  \"/>\n",
       "<polyline clip-path=\"url(#clip760)\" style=\"stroke:#000000; stroke-linecap:butt; stroke-linejoin:round; stroke-width:4; stroke-opacity:1; fill:none\" points=\"\n",
       "  181.936,181.486 200.834,181.486 \n",
       "  \"/>\n",
       "<polyline clip-path=\"url(#clip760)\" style=\"stroke:#000000; stroke-linecap:butt; stroke-linejoin:round; stroke-width:4; stroke-opacity:1; fill:none\" points=\"\n",
       "  181.936,114.365 200.834,114.365 \n",
       "  \"/>\n",
       "<polyline clip-path=\"url(#clip760)\" style=\"stroke:#000000; stroke-linecap:butt; stroke-linejoin:round; stroke-width:4; stroke-opacity:1; fill:none\" points=\"\n",
       "  181.936,47.2441 200.834,47.2441 \n",
       "  \"/>\n",
       "<path clip-path=\"url(#clip760)\" d=\"M56.9921 316.179 L86.6679 316.179 L86.6679 320.114 L56.9921 320.114 L56.9921 316.179 Z\" fill=\"#000000\" fill-rule=\"evenodd\" fill-opacity=\"1\" /><path clip-path=\"url(#clip760)\" d=\"M97.5706 329.073 L105.209 329.073 L105.209 302.707 L96.8993 304.374 L96.8993 300.115 L105.163 298.448 L109.839 298.448 L109.839 329.073 L117.478 329.073 L117.478 333.008 L97.5706 333.008 L97.5706 329.073 Z\" fill=\"#000000\" fill-rule=\"evenodd\" fill-opacity=\"1\" /><path clip-path=\"url(#clip760)\" d=\"M126.922 327.128 L131.807 327.128 L131.807 333.008 L126.922 333.008 L126.922 327.128 Z\" fill=\"#000000\" fill-rule=\"evenodd\" fill-opacity=\"1\" /><path clip-path=\"url(#clip760)\" d=\"M151.992 301.527 Q148.381 301.527 146.552 305.091 Q144.746 308.633 144.746 315.763 Q144.746 322.869 146.552 326.434 Q148.381 329.975 151.992 329.975 Q155.626 329.975 157.431 326.434 Q159.26 322.869 159.26 315.763 Q159.26 308.633 157.431 305.091 Q155.626 301.527 151.992 301.527 M151.992 297.823 Q157.802 297.823 160.857 302.429 Q163.936 307.013 163.936 315.763 Q163.936 324.489 160.857 329.096 Q157.802 333.679 151.992 333.679 Q146.181 333.679 143.103 329.096 Q140.047 324.489 140.047 315.763 Q140.047 307.013 143.103 302.429 Q146.181 297.823 151.992 297.823 Z\" fill=\"#000000\" fill-rule=\"evenodd\" fill-opacity=\"1\" /><path clip-path=\"url(#clip760)\" d=\"M57.9875 249.058 L87.6633 249.058 L87.6633 252.993 L57.9875 252.993 L57.9875 249.058 Z\" fill=\"#000000\" fill-rule=\"evenodd\" fill-opacity=\"1\" /><path clip-path=\"url(#clip760)\" d=\"M107.756 234.406 Q104.145 234.406 102.316 237.97 Q100.51 241.512 100.51 248.642 Q100.51 255.748 102.316 259.313 Q104.145 262.855 107.756 262.855 Q111.39 262.855 113.196 259.313 Q115.024 255.748 115.024 248.642 Q115.024 241.512 113.196 237.97 Q111.39 234.406 107.756 234.406 M107.756 230.702 Q113.566 230.702 116.621 235.308 Q119.7 239.892 119.7 248.642 Q119.7 257.368 116.621 261.975 Q113.566 266.558 107.756 266.558 Q101.946 266.558 98.8669 261.975 Q95.8114 257.368 95.8114 248.642 Q95.8114 239.892 98.8669 235.308 Q101.946 230.702 107.756 230.702 Z\" fill=\"#000000\" fill-rule=\"evenodd\" fill-opacity=\"1\" /><path clip-path=\"url(#clip760)\" d=\"M127.918 260.007 L132.802 260.007 L132.802 265.887 L127.918 265.887 L127.918 260.007 Z\" fill=\"#000000\" fill-rule=\"evenodd\" fill-opacity=\"1\" /><path clip-path=\"url(#clip760)\" d=\"M143.033 231.327 L161.39 231.327 L161.39 235.262 L147.316 235.262 L147.316 243.734 Q148.334 243.387 149.353 243.225 Q150.371 243.04 151.39 243.04 Q157.177 243.04 160.556 246.211 Q163.936 249.382 163.936 254.799 Q163.936 260.378 160.464 263.48 Q156.992 266.558 150.672 266.558 Q148.496 266.558 146.228 266.188 Q143.982 265.817 141.575 265.077 L141.575 260.378 Q143.658 261.512 145.881 262.068 Q148.103 262.623 150.58 262.623 Q154.584 262.623 156.922 260.517 Q159.26 258.41 159.26 254.799 Q159.26 251.188 156.922 249.081 Q154.584 246.975 150.58 246.975 Q148.705 246.975 146.83 247.392 Q144.978 247.808 143.033 248.688 L143.033 231.327 Z\" fill=\"#000000\" fill-rule=\"evenodd\" fill-opacity=\"1\" /><path clip-path=\"url(#clip760)\" d=\"M106.76 167.285 Q103.149 167.285 101.321 170.849 Q99.515 174.391 99.515 181.521 Q99.515 188.627 101.321 192.192 Q103.149 195.734 106.76 195.734 Q110.395 195.734 112.2 192.192 Q114.029 188.627 114.029 181.521 Q114.029 174.391 112.2 170.849 Q110.395 167.285 106.76 167.285 M106.76 163.581 Q112.571 163.581 115.626 168.187 Q118.705 172.771 118.705 181.521 Q118.705 190.248 115.626 194.854 Q112.571 199.437 106.76 199.437 Q100.95 199.437 97.8715 194.854 Q94.816 190.248 94.816 181.521 Q94.816 172.771 97.8715 168.187 Q100.95 163.581 106.76 163.581 Z\" fill=\"#000000\" fill-rule=\"evenodd\" fill-opacity=\"1\" /><path clip-path=\"url(#clip760)\" d=\"M126.922 192.886 L131.807 192.886 L131.807 198.766 L126.922 198.766 L126.922 192.886 Z\" fill=\"#000000\" fill-rule=\"evenodd\" fill-opacity=\"1\" /><path clip-path=\"url(#clip760)\" d=\"M151.992 167.285 Q148.381 167.285 146.552 170.849 Q144.746 174.391 144.746 181.521 Q144.746 188.627 146.552 192.192 Q148.381 195.734 151.992 195.734 Q155.626 195.734 157.431 192.192 Q159.26 188.627 159.26 181.521 Q159.26 174.391 157.431 170.849 Q155.626 167.285 151.992 167.285 M151.992 163.581 Q157.802 163.581 160.857 168.187 Q163.936 172.771 163.936 181.521 Q163.936 190.248 160.857 194.854 Q157.802 199.437 151.992 199.437 Q146.181 199.437 143.103 194.854 Q140.047 190.248 140.047 181.521 Q140.047 172.771 143.103 168.187 Q146.181 163.581 151.992 163.581 Z\" fill=\"#000000\" fill-rule=\"evenodd\" fill-opacity=\"1\" /><path clip-path=\"url(#clip760)\" d=\"M107.756 100.164 Q104.145 100.164 102.316 103.729 Q100.51 107.27 100.51 114.4 Q100.51 121.506 102.316 125.071 Q104.145 128.613 107.756 128.613 Q111.39 128.613 113.196 125.071 Q115.024 121.506 115.024 114.4 Q115.024 107.27 113.196 103.729 Q111.39 100.164 107.756 100.164 M107.756 96.46 Q113.566 96.46 116.621 101.066 Q119.7 105.65 119.7 114.4 Q119.7 123.127 116.621 127.733 Q113.566 132.316 107.756 132.316 Q101.946 132.316 98.8669 127.733 Q95.8114 123.127 95.8114 114.4 Q95.8114 105.65 98.8669 101.066 Q101.946 96.46 107.756 96.46 Z\" fill=\"#000000\" fill-rule=\"evenodd\" fill-opacity=\"1\" /><path clip-path=\"url(#clip760)\" d=\"M127.918 125.765 L132.802 125.765 L132.802 131.645 L127.918 131.645 L127.918 125.765 Z\" fill=\"#000000\" fill-rule=\"evenodd\" fill-opacity=\"1\" /><path clip-path=\"url(#clip760)\" d=\"M143.033 97.085 L161.39 97.085 L161.39 101.02 L147.316 101.02 L147.316 109.492 Q148.334 109.145 149.353 108.983 Q150.371 108.798 151.39 108.798 Q157.177 108.798 160.556 111.969 Q163.936 115.14 163.936 120.557 Q163.936 126.136 160.464 129.238 Q156.992 132.316 150.672 132.316 Q148.496 132.316 146.228 131.946 Q143.982 131.576 141.575 130.835 L141.575 126.136 Q143.658 127.27 145.881 127.826 Q148.103 128.381 150.58 128.381 Q154.584 128.381 156.922 126.275 Q159.26 124.168 159.26 120.557 Q159.26 116.946 156.922 114.84 Q154.584 112.733 150.58 112.733 Q148.705 112.733 146.83 113.15 Q144.978 113.566 143.033 114.446 L143.033 97.085 Z\" fill=\"#000000\" fill-rule=\"evenodd\" fill-opacity=\"1\" /><path clip-path=\"url(#clip760)\" d=\"M97.5706 60.5889 L105.209 60.5889 L105.209 34.2233 L96.8993 35.89 L96.8993 31.6308 L105.163 29.9641 L109.839 29.9641 L109.839 60.5889 L117.478 60.5889 L117.478 64.5241 L97.5706 64.5241 L97.5706 60.5889 Z\" fill=\"#000000\" fill-rule=\"evenodd\" fill-opacity=\"1\" /><path clip-path=\"url(#clip760)\" d=\"M126.922 58.6445 L131.807 58.6445 L131.807 64.5241 L126.922 64.5241 L126.922 58.6445 Z\" fill=\"#000000\" fill-rule=\"evenodd\" fill-opacity=\"1\" /><path clip-path=\"url(#clip760)\" d=\"M151.992 33.0428 Q148.381 33.0428 146.552 36.6076 Q144.746 40.1492 144.746 47.2788 Q144.746 54.3853 146.552 57.9501 Q148.381 61.4917 151.992 61.4917 Q155.626 61.4917 157.431 57.9501 Q159.26 54.3853 159.26 47.2788 Q159.26 40.1492 157.431 36.6076 Q155.626 33.0428 151.992 33.0428 M151.992 29.3391 Q157.802 29.3391 160.857 33.9456 Q163.936 38.5289 163.936 47.2788 Q163.936 56.0056 160.857 60.6121 Q157.802 65.1954 151.992 65.1954 Q146.181 65.1954 143.103 60.6121 Q140.047 56.0056 140.047 47.2788 Q140.047 38.5289 143.103 33.9456 Q146.181 29.3391 151.992 29.3391 Z\" fill=\"#000000\" fill-rule=\"evenodd\" fill-opacity=\"1\" /><circle clip-path=\"url(#clip762)\" cx=\"209.412\" cy=\"181.486\" r=\"14\" fill=\"#ff0000\" fill-rule=\"evenodd\" fill-opacity=\"1\" stroke=\"#000000\" stroke-opacity=\"1\" stroke-width=\"0.8\"/>\n",
       "<circle clip-path=\"url(#clip762)\" cx=\"209.412\" cy=\"181.486\" r=\"14\" fill=\"#ff0000\" fill-rule=\"evenodd\" fill-opacity=\"1\" stroke=\"#000000\" stroke-opacity=\"1\" stroke-width=\"0.8\"/>\n",
       "<path clip-path=\"url(#clip762)\" d=\"M585.927 165.486 L585.927 197.486 L617.927 197.486 L617.927 165.486 L585.927 165.486 Z\" fill=\"#0000ff\" fill-rule=\"evenodd\" fill-opacity=\"1\" stroke=\"#000000\" stroke-opacity=\"1\" stroke-width=\"0.8\"/>\n",
       "<path clip-path=\"url(#clip762)\" d=\"M847.603 165.486 L847.603 197.486 L879.603 197.486 L879.603 165.486 L847.603 165.486 Z\" fill=\"#0000ff\" fill-rule=\"evenodd\" fill-opacity=\"1\" stroke=\"#000000\" stroke-opacity=\"1\" stroke-width=\"0.8\"/>\n",
       "<path clip-path=\"url(#clip762)\" d=\"M1109.28 165.486 L1109.28 197.486 L1141.28 197.486 L1141.28 165.486 L1109.28 165.486 Z\" fill=\"#0000ff\" fill-rule=\"evenodd\" fill-opacity=\"1\" stroke=\"#000000\" stroke-opacity=\"1\" stroke-width=\"0.8\"/>\n",
       "</svg>\n"
      ]
     },
     "execution_count": 2,
     "metadata": {},
     "output_type": "execute_result"
    }
   ],
   "source": [
    "tsg = TSG([1.5, 2.5, 3.5])\n",
    "println(tsg)\n",
    "TSG1dim.visualize(tsg)"
   ]
  },
  {
   "cell_type": "code",
   "execution_count": 3,
   "id": "86d41290-c8a3-40d8-84e3-43d63e60519a",
   "metadata": {},
   "outputs": [
    {
     "name": "stdout",
     "output_type": "stream",
     "text": [
      "[1.0, 1.9999999999999998, 3.9999999999999996]\n"
     ]
    }
   ],
   "source": [
    "println(TSG1dim.naive(tsg))"
   ]
  },
  {
   "cell_type": "code",
   "execution_count": 4,
   "id": "a4486ec6-df97-416b-a856-147a705f61dd",
   "metadata": {},
   "outputs": [
    {
     "data": {
      "text/plain": [
       "3-element Vector{Float64}:\n",
       " 1.0\n",
       " 2.0\n",
       " 4.0"
      ]
     },
     "execution_count": 4,
     "metadata": {},
     "output_type": "execute_result"
    }
   ],
   "source": [
    "TSG1dim.fast(tsg)"
   ]
  },
  {
   "cell_type": "code",
   "execution_count": null,
   "id": "4ee0ff0d-0e38-41ef-8d1a-09ede3512cb5",
   "metadata": {},
   "outputs": [],
   "source": []
  }
 ],
 "metadata": {
  "kernelspec": {
   "display_name": "Julia 1.6.2",
   "language": "julia",
   "name": "julia-1.6"
  },
  "language_info": {
   "file_extension": ".jl",
   "mimetype": "application/julia",
   "name": "julia",
   "version": "1.6.2"
  }
 },
 "nbformat": 4,
 "nbformat_minor": 5
}
