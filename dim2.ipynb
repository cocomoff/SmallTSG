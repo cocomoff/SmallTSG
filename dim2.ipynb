{
 "cells": [
  {
   "cell_type": "code",
   "execution_count": 1,
   "id": "27c52177-eb6c-4090-844f-990bfb2017cc",
   "metadata": {},
   "outputs": [],
   "source": [
    "module TSP2dim\n",
    "\n",
    "using LinearAlgebra\n",
    "using Combinatorics\n",
    "using Plots\n",
    "gr()\n",
    "\n",
    "export TSG, DEPOT, visualize\n",
    "\n",
    "const DEPOT = [0.0, 0.0]\n",
    "\n",
    "struct TSG\n",
    "    points::Array{Float64, 2}\n",
    "end\n",
    "\n",
    "function visualize(game)\n",
    "    f = plot(size=(500, 500), aspect=:equal)\n",
    "    scatter!(f, [DEPOT[1]], [DEPOT[2]], color=:red, label=nothing)\n",
    "    scatter!(f, game.points[:, 1], game.points[:, 2], color=:blue, marker=:rect, label=nothing)\n",
    "    f\n",
    "end\n",
    "\n",
    "\n",
    "\"\"\"\n",
    "    naive computation of the Shapley values of the given TSG\n",
    "\"\"\"\n",
    "function naive(game)\n",
    "    n = size(game.points, 1)\n",
    "    values = zeros(n)\n",
    "    \n",
    "    # distance matrix\n",
    "    Ddepot = zeros(n)\n",
    "    D = zeros(n, n)\n",
    "    for i in 1:n\n",
    "        Ddepot[i] = norm(DEPOT .- game.points[i, :])\n",
    "    end\n",
    "    for i in 1:n, j in i+1:n\n",
    "        D[i, j] = D[j, i] = norm(game.points[i, :] .- game.points[j, :])\n",
    "    end\n",
    "    \n",
    "    # cost pre-processing for all subsets on {1,...,n}\n",
    "    dictcost = Dict()\n",
    "    dictcost[[]] = 0.0\n",
    "    for N in powerset(collect(1:n), 1)\n",
    "        if length(N) == 1\n",
    "            dictcost[N] = 2 * Ddepot[N[1]]\n",
    "        else\n",
    "            mincost = Inf\n",
    "            for perm in permutations(N)\n",
    "                cost = 0.0\n",
    "                for i in 1:length(perm) - 1\n",
    "                    cost += D[perm[i], perm[i + 1]]\n",
    "                end\n",
    "                cost += Ddepot[perm[1]]\n",
    "                cost += Ddepot[perm[end]]\n",
    "                if mincost > cost\n",
    "                    mincost = cost\n",
    "                end\n",
    "            end\n",
    "            dictcost[N] = mincost\n",
    "        end\n",
    "    end\n",
    "    \n",
    "    # computation\n",
    "    for i in 1:n\n",
    "        Ns = [j for j in 1:n if j != i]\n",
    "        valuei = 0.0\n",
    "        for S in powerset(Ns)\n",
    "            Si = sort([S; i])\n",
    "            c1 = dictcost[Si]\n",
    "            c2 = dictcost[S]\n",
    "            valuei += factorial(length(S)) * factorial(n - length(S) - 1) / factorial(n) * (c1 - c2)\n",
    "        end\n",
    "        values[i] = valuei\n",
    "    end\n",
    "    values\n",
    "end\n",
    "\n",
    "\n",
    "\"\"\"\n",
    "    naive computation of the Shapley values of the given TSG\n",
    "\"\"\"\n",
    "function fast_with_sc(game)\n",
    "    n = size(game.points, 1)\n",
    "    values = zeros(n)\n",
    "    \n",
    "    # distance matrix\n",
    "    Ddepot = zeros(n)\n",
    "    D = zeros(n, n)\n",
    "    for i in 1:n\n",
    "        Ddepot[i] = norm(DEPOT .- game.points[i, :])\n",
    "    end\n",
    "    for i in 1:n, j in i+1:n\n",
    "        D[i, j] = D[j, i] = norm(game.points[i, :] .- game.points[j, :])\n",
    "    end\n",
    "    \n",
    "    S = zeros(n, n)\n",
    "    for i in 1:n, j in i:n\n",
    "        S[i, j] = S[j, i] = Ddepot[i] + Ddepot[j] - D[i, j]\n",
    "    end\n",
    "    # println(S)\n",
    "    \n",
    "\n",
    "    # trial Φ1\n",
    "    # v1 = S[1, 1] - S[1, 2] / 2\n",
    "    # v2 = S[2, 2] - S[1, 2] / 2\n",
    "    # println(v1)\n",
    "    # println(v2)\n",
    "    \n",
    "    for k in 1:n\n",
    "        values[k] = S[k, k]\n",
    "        vv = [S[j, k] for j in 1:n if j != k]\n",
    "        sort!(vv, rev=true)\n",
    "        sc = 0.0\n",
    "        for l in 1:length(vv)\n",
    "            sc += vv[l] / (l * (l + 1))\n",
    "        end\n",
    "        values[k] -= sc\n",
    "    end\n",
    "    values\n",
    "end\n",
    "\n",
    "\n",
    "end\n",
    "\n",
    "using Main.TSP2dim"
   ]
  },
  {
   "cell_type": "code",
   "execution_count": 2,
   "id": "1099e926-136e-4a19-82de-193b64ed4ccd",
   "metadata": {},
   "outputs": [
    {
     "data": {
      "text/plain": [
       "2-element Vector{Float64}:\n",
       " 6.977551657239943\n",
       " 1.5597675307508125"
      ]
     },
     "execution_count": 2,
     "metadata": {},
     "output_type": "execute_result"
    }
   ],
   "source": [
    "tsg = TSG([4.0 1.0; 1.0 1.0])\n",
    "TSP2dim.fast_with_sc(tsg)"
   ]
  },
  {
   "cell_type": "code",
   "execution_count": 3,
   "id": "6bef8cc4-7aa9-49f6-a5a9-7a2c9f5efdcf",
   "metadata": {},
   "outputs": [
    {
     "data": {
      "text/plain": [
       "2-element Vector{Float64}:\n",
       " 6.977551657239943\n",
       " 1.5597675307508123"
      ]
     },
     "execution_count": 3,
     "metadata": {},
     "output_type": "execute_result"
    }
   ],
   "source": [
    "tsg = TSG([4.0 1.0; 1.0 1.0])\n",
    "TSP2dim.naive(tsg)"
   ]
  },
  {
   "cell_type": "code",
   "execution_count": 4,
   "id": "b6181910-3202-4e1d-a585-8922c75e502d",
   "metadata": {},
   "outputs": [
    {
     "data": {
      "text/plain": [
       "3-element Vector{Float64}:\n",
       " 6.491160705824171\n",
       " 1.1668121330121404\n",
       " 2.4578484809858727"
      ]
     },
     "execution_count": 4,
     "metadata": {},
     "output_type": "execute_result"
    }
   ],
   "source": [
    "tsg = TSG([4.0 1.0; 1.0 1.0; 0.5 2.0])\n",
    "TSP2dim.naive(tsg)"
   ]
  },
  {
   "cell_type": "code",
   "execution_count": 5,
   "id": "081c0e7d-3f55-42a8-8ca8-6221fb1223ea",
   "metadata": {},
   "outputs": [
    {
     "data": {
      "text/plain": [
       "3-element Vector{Float64}:\n",
       " 6.551022973010413\n",
       " 1.1668121330121408\n",
       " 2.457848480985873"
      ]
     },
     "execution_count": 5,
     "metadata": {},
     "output_type": "execute_result"
    }
   ],
   "source": [
    "TSP2dim.fast_with_sc(tsg)"
   ]
  },
  {
   "cell_type": "code",
   "execution_count": null,
   "id": "24ff8471-fc0d-496e-8659-9bfe45d10bb0",
   "metadata": {},
   "outputs": [],
   "source": []
  }
 ],
 "metadata": {
  "kernelspec": {
   "display_name": "Julia 1.6.2",
   "language": "julia",
   "name": "julia-1.6"
  },
  "language_info": {
   "file_extension": ".jl",
   "mimetype": "application/julia",
   "name": "julia",
   "version": "1.6.2"
  }
 },
 "nbformat": 4,
 "nbformat_minor": 5
}
