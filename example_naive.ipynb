{
 "cells": [
  {
   "cell_type": "code",
   "execution_count": 1,
   "id": "e1a336d5-9cd4-4428-a087-739f2035b25c",
   "metadata": {},
   "outputs": [],
   "source": [
    "using Combinatorics"
   ]
  },
  {
   "cell_type": "code",
   "execution_count": 2,
   "id": "6b3bdae6-4636-4723-9acb-d23d349b80b6",
   "metadata": {},
   "outputs": [],
   "source": [
    "N = [1, 2, 3]\n",
    "vs = [0, 0, 0, 0, 3, 9, 6, 9]\n",
    "dictv = Dict()\n",
    "for (k, S) in enumerate(powerset(N))\n",
    "    dictv[Set(S)] = vs[k]\n",
    "end"
   ]
  },
  {
   "cell_type": "markdown",
   "id": "c2691425-abc8-4a4e-a94b-f96952b4d2db",
   "metadata": {},
   "source": [
    "----\n",
    "\n",
    "Examples of computing shapley values"
   ]
  },
  {
   "cell_type": "code",
   "execution_count": 3,
   "id": "c47f56c1-4e5d-4e88-9a8e-00d2a61bed22",
   "metadata": {},
   "outputs": [
    {
     "name": "stdout",
     "output_type": "stream",
     "text": [
      "[3.0, 1.5, 4.5]\n"
     ]
    }
   ],
   "source": [
    "function naive_compute_shapley(N, dictv, i)\n",
    "    Ni = [j for j in N if j != i]\n",
    "    fN = factorial(length(N))\n",
    "    value = 0.0\n",
    "    for S in powerset(Ni)\n",
    "        S = Set(S)\n",
    "        Si = union(S, i)\n",
    "        comp = factorial(length(S)) * factorial(length(N) - length(S) - 1) / fN\n",
    "        valueS = comp * (dictv[Si] - dictv[S])\n",
    "        value += valueS\n",
    "    end\n",
    "    value\n",
    "end\n",
    "\n",
    "ϕ = [naive_compute_shapley(N, dictv, k) for k in 1:length(N)]\n",
    "println(ϕ)"
   ]
  },
  {
   "cell_type": "code",
   "execution_count": null,
   "id": "9c410d65-42c9-43de-890d-f27d2b008feb",
   "metadata": {},
   "outputs": [],
   "source": []
  }
 ],
 "metadata": {
  "kernelspec": {
   "display_name": "Julia 1.6.2",
   "language": "julia",
   "name": "julia-1.6"
  },
  "language_info": {
   "file_extension": ".jl",
   "mimetype": "application/julia",
   "name": "julia",
   "version": "1.6.2"
  }
 },
 "nbformat": 4,
 "nbformat_minor": 5
}
